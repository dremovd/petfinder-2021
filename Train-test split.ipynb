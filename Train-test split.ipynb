{
 "cells": [
  {
   "cell_type": "code",
   "execution_count": 1,
   "id": "0b1fdb92",
   "metadata": {},
   "outputs": [],
   "source": [
    "from sklearn.model_selection import train_test_split\n",
    "from fastai.vision.all import Path"
   ]
  },
  {
   "cell_type": "code",
   "execution_count": 2,
   "id": "746af80a",
   "metadata": {},
   "outputs": [],
   "source": [
    "SEED = 0"
   ]
  },
  {
   "cell_type": "code",
   "execution_count": 3,
   "id": "c7399045",
   "metadata": {},
   "outputs": [],
   "source": [
    "mv ../input/petfinder-pawpularity-score/ ../input/full-petfinder-pawpularity-score/"
   ]
  },
  {
   "cell_type": "code",
   "execution_count": 4,
   "id": "f41fde98",
   "metadata": {},
   "outputs": [],
   "source": [
    "dataset_path = Path('../input/full-petfinder-pawpularity-score/')"
   ]
  },
  {
   "cell_type": "code",
   "execution_count": 5,
   "id": "4e81808f",
   "metadata": {},
   "outputs": [],
   "source": [
    "import pandas as pd\n",
    "dataset = pd.read_csv(dataset_path/'train.csv')"
   ]
  },
  {
   "cell_type": "code",
   "execution_count": 6,
   "id": "61d8ceaf",
   "metadata": {},
   "outputs": [],
   "source": [
    "train, test = train_test_split(dataset, test_size=0.2, random_state=SEED)"
   ]
  },
  {
   "cell_type": "code",
   "execution_count": 7,
   "id": "cdd781a8",
   "metadata": {},
   "outputs": [
    {
     "data": {
      "text/plain": [
       "((7929, 14), (1983, 14))"
      ]
     },
     "execution_count": 7,
     "metadata": {},
     "output_type": "execute_result"
    }
   ],
   "source": [
    "train.shape, test.shape"
   ]
  },
  {
   "cell_type": "code",
   "execution_count": 8,
   "id": "5f2bfdbd",
   "metadata": {},
   "outputs": [
    {
     "name": "stdout",
     "output_type": "stream",
     "text": [
      "\u001b[0m\u001b[01;34mpetfinder-pawpularity-score\u001b[0m/  \u001b[01;34mtest\u001b[0m/     \u001b[01;34mtrain\u001b[0m/\r\n",
      "sample_submission.csv         test.csv  train.csv\r\n"
     ]
    }
   ],
   "source": [
    "ls ../input/full-petfinder-pawpularity-score/"
   ]
  },
  {
   "cell_type": "code",
   "execution_count": 9,
   "id": "218eb798",
   "metadata": {},
   "outputs": [],
   "source": [
    "export_dataset_path = Path('../input/petfinder-pawpularity-score/')"
   ]
  },
  {
   "cell_type": "code",
   "execution_count": 10,
   "id": "bfb0a217",
   "metadata": {},
   "outputs": [],
   "source": [
    "!mkdir ../input/petfinder-pawpularity-score/\n",
    "!mkdir ../input/petfinder-pawpularity-score/test/ \n",
    "!mkdir ../input/petfinder-pawpularity-score/train/"
   ]
  },
  {
   "cell_type": "code",
   "execution_count": 11,
   "id": "ee453170",
   "metadata": {},
   "outputs": [],
   "source": [
    "train.to_csv(export_dataset_path / 'train.csv', index=False)"
   ]
  },
  {
   "cell_type": "code",
   "execution_count": 12,
   "id": "62c853ef",
   "metadata": {},
   "outputs": [],
   "source": [
    "test.to_csv(export_dataset_path / 'test.csv', index=False)"
   ]
  },
  {
   "cell_type": "code",
   "execution_count": 13,
   "id": "3025835c",
   "metadata": {},
   "outputs": [],
   "source": [
    "def source_image_path(image_id):\n",
    "    return str(dataset_path / 'train' / image_id) + '.jpg'\n",
    "\n",
    "def destination_image_path(image_id, dataset_part='train'):\n",
    "    return str(export_dataset_path / dataset_part / image_id) + '.jpg'\n",
    "\n",
    "train['source_path'] = train['Id'].apply(source_image_path)\n",
    "train['destination_path'] = train['Id'].apply(lambda x: destination_image_path(x, 'train'))"
   ]
  },
  {
   "cell_type": "code",
   "execution_count": 14,
   "id": "af3db84c",
   "metadata": {},
   "outputs": [],
   "source": [
    "test['source_path'] = test['Id'].apply(source_image_path)\n",
    "test['destination_path'] = test['Id'].apply(lambda x: destination_image_path(x, 'test'))"
   ]
  },
  {
   "cell_type": "code",
   "execution_count": 23,
   "id": "3fe1d07d",
   "metadata": {},
   "outputs": [
    {
     "name": "stderr",
     "output_type": "stream",
     "text": [
      "7929it [00:07, 998.36it/s] \n"
     ]
    }
   ],
   "source": [
    "import tqdm\n",
    "import shutil\n",
    "\n",
    "for _, (source, destination) in tqdm.tqdm(train[['source_path', 'destination_path']].iterrows()):\n",
    "    shutil.copy(source, destination)"
   ]
  },
  {
   "cell_type": "code",
   "execution_count": 24,
   "id": "34cd6234",
   "metadata": {},
   "outputs": [
    {
     "name": "stderr",
     "output_type": "stream",
     "text": [
      "1983it [00:02, 927.32it/s] \n"
     ]
    }
   ],
   "source": [
    "for _, (source, destination) in tqdm.tqdm(test[['source_path', 'destination_path']].iterrows()):\n",
    "    shutil.copy(source, destination)"
   ]
  },
  {
   "cell_type": "code",
   "execution_count": 25,
   "id": "6fecd9de",
   "metadata": {},
   "outputs": [
    {
     "name": "stdout",
     "output_type": "stream",
     "text": [
      "7929\r\n"
     ]
    }
   ],
   "source": [
    "!ls {export_dataset_path / 'train'} | wc -l"
   ]
  },
  {
   "cell_type": "code",
   "execution_count": 26,
   "id": "db1cfa76",
   "metadata": {},
   "outputs": [
    {
     "name": "stdout",
     "output_type": "stream",
     "text": [
      "1983\r\n"
     ]
    }
   ],
   "source": [
    "!ls {export_dataset_path / 'test'} | wc -l"
   ]
  },
  {
   "cell_type": "code",
   "execution_count": null,
   "id": "a2459b3e",
   "metadata": {},
   "outputs": [],
   "source": []
  }
 ],
 "metadata": {
  "kernelspec": {
   "display_name": "pytorch",
   "language": "python",
   "name": "pytorch"
  },
  "language_info": {
   "codemirror_mode": {
    "name": "ipython",
    "version": 3
   },
   "file_extension": ".py",
   "mimetype": "text/x-python",
   "name": "python",
   "nbconvert_exporter": "python",
   "pygments_lexer": "ipython3",
   "version": "3.7.10"
  }
 },
 "nbformat": 4,
 "nbformat_minor": 5
}
