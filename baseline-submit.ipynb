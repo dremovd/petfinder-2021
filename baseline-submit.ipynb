{
 "cells": [
  {
   "cell_type": "code",
   "execution_count": 1,
   "metadata": {},
   "outputs": [],
   "source": [
    "import pandas as pd\n",
    "import numpy as np\n",
    "import torch\n",
    "from timm import create_model"
   ]
  },
  {
   "cell_type": "code",
   "execution_count": 2,
   "metadata": {},
   "outputs": [],
   "source": [
    "import sys\n",
    "import os\n",
    "sys.path.append('../input/timm-pytorch-image-models/pytorch-image-models-master')"
   ]
  },
  {
   "cell_type": "code",
   "execution_count": 3,
   "metadata": {},
   "outputs": [],
   "source": [
    "USER_PATH = '/home/dmitry/'"
   ]
  },
  {
   "cell_type": "code",
   "execution_count": 4,
   "metadata": {
    "_cell_guid": "b1076dfc-b9ad-4769-8c92-a6c4dae69d19",
    "_uuid": "8f2839f25d086af736a60e9eeb907d3b93b6e0e5",
    "execution": {
     "iopub.execute_input": "2021-11-25T16:28:24.129268Z",
     "iopub.status.busy": "2021-11-25T16:28:24.128822Z",
     "iopub.status.idle": "2021-11-25T16:28:24.963361Z",
     "shell.execute_reply": "2021-11-25T16:28:24.962668Z",
     "shell.execute_reply.started": "2021-11-25T16:28:24.129225Z"
    }
   },
   "outputs": [],
   "source": [
    "from fastai.vision.all import (\n",
    "    Path,\n",
    "    set_seed,\n",
    "    ImageDataLoaders,\n",
    "    RegressionBlock,\n",
    "    Resize,\n",
    "    setup_aug_tfms,\n",
    "    Brightness,\n",
    "    Contrast,\n",
    "    Hue,\n",
    "    Saturation,\n",
    "    Learner,\n",
    "    MSELossFlat,\n",
    ")"
   ]
  },
  {
   "cell_type": "code",
   "execution_count": null,
   "metadata": {},
   "outputs": [],
   "source": []
  },
  {
   "cell_type": "code",
   "execution_count": 5,
   "metadata": {
    "execution": {
     "iopub.execute_input": "2021-11-25T16:28:24.964819Z",
     "iopub.status.busy": "2021-11-25T16:28:24.964581Z",
     "iopub.status.idle": "2021-11-25T16:28:24.969379Z",
     "shell.execute_reply": "2021-11-25T16:28:24.968689Z",
     "shell.execute_reply.started": "2021-11-25T16:28:24.964789Z"
    }
   },
   "outputs": [],
   "source": [
    "SEED = 0\n",
    "set_seed(SEED, reproducible=True)\n",
    "torch.manual_seed(SEED)\n",
    "torch.cuda.manual_seed(SEED)\n",
    "torch.backends.cudnn.deterministic = True\n",
    "torch.use_deterministic_algorithms = True\n",
    "\n",
    "\n",
    "BATCH_SIZE = 24 # 1080Ti only has 11Gb, so batch size of 24 is around maximum"
   ]
  },
  {
   "cell_type": "code",
   "execution_count": 6,
   "metadata": {
    "execution": {
     "iopub.execute_input": "2021-11-25T16:28:24.971875Z",
     "iopub.status.busy": "2021-11-25T16:28:24.971347Z",
     "iopub.status.idle": "2021-11-25T16:28:24.984273Z",
     "shell.execute_reply": "2021-11-25T16:28:24.983527Z",
     "shell.execute_reply.started": "2021-11-25T16:28:24.971838Z"
    }
   },
   "outputs": [],
   "source": [
    "dataset_path = Path('../input/petfinder-pawpularity-score/')"
   ]
  },
  {
   "cell_type": "code",
   "execution_count": 7,
   "metadata": {
    "execution": {
     "iopub.execute_input": "2021-11-25T16:28:24.985563Z",
     "iopub.status.busy": "2021-11-25T16:28:24.985380Z",
     "iopub.status.idle": "2021-11-25T16:28:25.035199Z",
     "shell.execute_reply": "2021-11-25T16:28:25.034423Z",
     "shell.execute_reply.started": "2021-11-25T16:28:24.985541Z"
    }
   },
   "outputs": [],
   "source": [
    "train_df = pd.read_csv(dataset_path/'train.csv')\n",
    "test_df = pd.read_csv(dataset_path/'test.csv')"
   ]
  },
  {
   "cell_type": "code",
   "execution_count": 8,
   "metadata": {
    "execution": {
     "iopub.execute_input": "2021-11-25T16:28:25.036726Z",
     "iopub.status.busy": "2021-11-25T16:28:25.036479Z",
     "iopub.status.idle": "2021-11-25T16:28:25.181324Z",
     "shell.execute_reply": "2021-11-25T16:28:25.180628Z",
     "shell.execute_reply.started": "2021-11-25T16:28:25.036694Z"
    }
   },
   "outputs": [
    {
     "data": {
      "text/plain": [
       "(7929, 14)"
      ]
     },
     "execution_count": 8,
     "metadata": {},
     "output_type": "execute_result"
    }
   ],
   "source": [
    "train_df['path'] = train_df['Id'].map(lambda x:str(dataset_path/'train'/x)+'.jpg')\n",
    "test_df['path'] = test_df['Id'].map(lambda x:str(dataset_path/'test'/x)+'.jpg')\n",
    "\n",
    "train_df = train_df.drop(columns=['Id'])\n",
    "\n",
    "train_df.shape"
   ]
  },
  {
   "cell_type": "code",
   "execution_count": 9,
   "metadata": {
    "execution": {
     "iopub.execute_input": "2021-11-25T16:28:25.465084Z",
     "iopub.status.busy": "2021-11-25T16:28:25.464872Z",
     "iopub.status.idle": "2021-11-25T16:28:25.473818Z",
     "shell.execute_reply": "2021-11-25T16:28:25.473013Z",
     "shell.execute_reply.started": "2021-11-25T16:28:25.465060Z"
    }
   },
   "outputs": [],
   "source": [
    "train_df['norm_score'] = train_df['Pawpularity'] / 100"
   ]
  },
  {
   "cell_type": "code",
   "execution_count": 10,
   "metadata": {},
   "outputs": [],
   "source": [
    "model_path = Path(USER_PATH) / '.cache/torch/hub/checkpoints/'"
   ]
  },
  {
   "cell_type": "code",
   "execution_count": 11,
   "metadata": {
    "execution": {
     "iopub.execute_input": "2021-11-25T16:28:25.826600Z",
     "iopub.status.busy": "2021-11-25T16:28:25.826370Z",
     "iopub.status.idle": "2021-11-25T16:28:34.977359Z",
     "shell.execute_reply": "2021-11-25T16:28:34.976404Z",
     "shell.execute_reply.started": "2021-11-25T16:28:25.826571Z"
    }
   },
   "outputs": [
    {
     "name": "stdout",
     "output_type": "stream",
     "text": [
      "cp: cannot stat '../input/swin-transformer/swin_large_patch4_window7_224_22kto1k.pth': No such file or directory\r\n"
     ]
    }
   ],
   "source": [
    "# Needed to copy model weights with no internet from local Kaggle dataset\n",
    "if not os.path.exists(model_path):\n",
    "    os.makedirs(model_path)\n",
    "!cp '../input/swin-transformer/swin_large_patch4_window7_224_22kto1k.pth' {model_path / 'swin_large_patch4_window7_224_22kto1k.pth'}"
   ]
  },
  {
   "cell_type": "code",
   "execution_count": 12,
   "metadata": {
    "execution": {
     "iopub.execute_input": "2021-11-25T16:28:35.725832Z",
     "iopub.status.busy": "2021-11-25T16:28:35.725047Z",
     "iopub.status.idle": "2021-11-25T16:28:35.730676Z",
     "shell.execute_reply": "2021-11-25T16:28:35.729594Z",
     "shell.execute_reply.started": "2021-11-25T16:28:35.725790Z"
    }
   },
   "outputs": [],
   "source": [
    "def petfinder_rmse(input,target):\n",
    "    return 100 * torch.sqrt(F.mse_loss(input.flatten(), target))"
   ]
  },
  {
   "cell_type": "code",
   "execution_count": 13,
   "metadata": {
    "execution": {
     "iopub.execute_input": "2021-11-25T16:28:35.732788Z",
     "iopub.status.busy": "2021-11-25T16:28:35.731849Z",
     "iopub.status.idle": "2021-11-25T16:28:35.741406Z",
     "shell.execute_reply": "2021-11-25T16:28:35.740535Z",
     "shell.execute_reply.started": "2021-11-25T16:28:35.732752Z"
    }
   },
   "outputs": [],
   "source": [
    "def get_data(train_df):\n",
    "    train_df_f = train_df.copy()\n",
    "    \n",
    "    dls = ImageDataLoaders.from_df(\n",
    "        train_df_f, \n",
    "        valid_pct=0,\n",
    "        seed=SEED, \n",
    "        fn_col='path',\n",
    "        label_col='norm_score', \n",
    "        y_block=RegressionBlock, \n",
    "        bs=BATCH_SIZE,\n",
    "        num_workers=4,\n",
    "        item_tfms=Resize(224),\n",
    "        batch_tfms=setup_aug_tfms([Brightness(), Contrast(), Hue(), Saturation()])\n",
    "    )\n",
    "    \n",
    "    return dls\n"
   ]
  },
  {
   "cell_type": "code",
   "execution_count": 14,
   "metadata": {
    "execution": {
     "iopub.execute_input": "2021-11-25T16:28:40.471576Z",
     "iopub.status.busy": "2021-11-25T16:28:40.471315Z",
     "iopub.status.idle": "2021-11-25T16:28:40.476607Z",
     "shell.execute_reply": "2021-11-25T16:28:40.475967Z",
     "shell.execute_reply.started": "2021-11-25T16:28:40.471543Z"
    }
   },
   "outputs": [],
   "source": [
    "from torch.nn import MSELoss\n",
    "\n",
    "def get_learner(train_df):\n",
    "    data = get_data(train_df)\n",
    "    model = create_model('swin_large_patch4_window7_224', pretrained=True, num_classes=data.c)\n",
    "    learn = Learner(data, model, loss_func=MSELossFlat(), metrics=petfinder_rmse).to_fp16()\n",
    "    return learn"
   ]
  },
  {
   "cell_type": "code",
   "execution_count": 15,
   "metadata": {
    "execution": {
     "iopub.execute_input": "2021-11-25T16:31:26.319237Z",
     "iopub.status.busy": "2021-11-25T16:31:26.317435Z",
     "iopub.status.idle": "2021-11-25T16:31:26.323297Z",
     "shell.execute_reply": "2021-11-25T16:31:26.322211Z",
     "shell.execute_reply.started": "2021-11-25T16:31:26.319200Z"
    }
   },
   "outputs": [],
   "source": [
    "import gc"
   ]
  },
  {
   "cell_type": "code",
   "execution_count": 16,
   "metadata": {},
   "outputs": [
    {
     "name": "stderr",
     "output_type": "stream",
     "text": [
      "/home/dmitry/anaconda3/envs/pytorch/lib/python3.7/site-packages/torch/functional.py:445: UserWarning: torch.meshgrid: in an upcoming release, it will be required to pass the indexing argument. (Triggered internally at  ../aten/src/ATen/native/TensorShape.cpp:2157.)\n",
      "  return _VF.meshgrid(tensors, **kwargs)  # type: ignore[attr-defined]\n"
     ]
    }
   ],
   "source": [
    "learn = get_learner(train_df)"
   ]
  },
  {
   "cell_type": "code",
   "execution_count": 17,
   "metadata": {
    "execution": {
     "iopub.execute_input": "2021-11-25T16:31:26.324958Z",
     "iopub.status.busy": "2021-11-25T16:31:26.324712Z",
     "iopub.status.idle": "2021-11-25T19:51:16.711583Z",
     "shell.execute_reply": "2021-11-25T19:51:16.709876Z",
     "shell.execute_reply.started": "2021-11-25T16:31:26.324925Z"
    }
   },
   "outputs": [
    {
     "data": {
      "text/html": [
       "<table border=\"1\" class=\"dataframe\">\n",
       "  <thead>\n",
       "    <tr style=\"text-align: left;\">\n",
       "      <th>epoch</th>\n",
       "      <th>train_loss</th>\n",
       "      <th>valid_loss</th>\n",
       "      <th>petfinder_rmse</th>\n",
       "      <th>time</th>\n",
       "    </tr>\n",
       "  </thead>\n",
       "  <tbody>\n",
       "    <tr>\n",
       "      <td>0</td>\n",
       "      <td>0.032697</td>\n",
       "      <td>None</td>\n",
       "      <td>None</td>\n",
       "      <td>06:33</td>\n",
       "    </tr>\n",
       "  </tbody>\n",
       "</table>"
      ],
      "text/plain": [
       "<IPython.core.display.HTML object>"
      ]
     },
     "metadata": {},
     "output_type": "display_data"
    },
    {
     "name": "stderr",
     "output_type": "stream",
     "text": [
      "/home/dmitry/anaconda3/envs/pytorch/lib/python3.7/site-packages/fastprogress/fastprogress.py:74: UserWarning: Your generator is empty.\n",
      "  warn(\"Your generator is empty.\")\n"
     ]
    }
   ],
   "source": [
    "learn.freeze_to(-2)\n",
    "learn.fit_one_cycle(1, 1e-4) \n",
    "learn = learn.to_fp32()"
   ]
  },
  {
   "cell_type": "code",
   "execution_count": 18,
   "metadata": {},
   "outputs": [],
   "source": [
    "test_dl = learn.dls.test_dl(test_df)"
   ]
  },
  {
   "cell_type": "code",
   "execution_count": 19,
   "metadata": {},
   "outputs": [
    {
     "data": {
      "text/html": [],
      "text/plain": [
       "<IPython.core.display.HTML object>"
      ]
     },
     "metadata": {},
     "output_type": "display_data"
    }
   ],
   "source": [
    "preds, _ = learn.get_preds(dl=test_dl)"
   ]
  },
  {
   "cell_type": "code",
   "execution_count": 21,
   "metadata": {},
   "outputs": [],
   "source": [
    "submission = test_df[['Id']].copy()"
   ]
  },
  {
   "cell_type": "code",
   "execution_count": 22,
   "metadata": {
    "execution": {
     "iopub.status.busy": "2021-11-25T19:51:16.731575Z",
     "iopub.status.idle": "2021-11-25T19:51:16.732206Z",
     "shell.execute_reply": "2021-11-25T19:51:16.731985Z",
     "shell.execute_reply.started": "2021-11-25T19:51:16.731961Z"
    }
   },
   "outputs": [],
   "source": [
    "raw_score = preds.float().numpy()\n",
    "submission['Pawpularity'] = (np.clip(raw_score, 0, 1)) * 100\n",
    "submission.to_csv('submission.csv', index=False)"
   ]
  },
  {
   "cell_type": "code",
   "execution_count": 23,
   "metadata": {
    "execution": {
     "iopub.status.busy": "2021-11-25T19:51:16.733319Z",
     "iopub.status.idle": "2021-11-25T19:51:16.733940Z",
     "shell.execute_reply": "2021-11-25T19:51:16.733734Z",
     "shell.execute_reply.started": "2021-11-25T19:51:16.733711Z"
    }
   },
   "outputs": [
    {
     "data": {
      "text/html": [
       "<div>\n",
       "<style scoped>\n",
       "    .dataframe tbody tr th:only-of-type {\n",
       "        vertical-align: middle;\n",
       "    }\n",
       "\n",
       "    .dataframe tbody tr th {\n",
       "        vertical-align: top;\n",
       "    }\n",
       "\n",
       "    .dataframe thead th {\n",
       "        text-align: right;\n",
       "    }\n",
       "</style>\n",
       "<table border=\"1\" class=\"dataframe\">\n",
       "  <thead>\n",
       "    <tr style=\"text-align: right;\">\n",
       "      <th></th>\n",
       "      <th>Id</th>\n",
       "      <th>Pawpularity</th>\n",
       "    </tr>\n",
       "  </thead>\n",
       "  <tbody>\n",
       "    <tr>\n",
       "      <th>0</th>\n",
       "      <td>ee51b99832f1ba868f646df93d2b6b81</td>\n",
       "      <td>56.451694</td>\n",
       "    </tr>\n",
       "    <tr>\n",
       "      <th>1</th>\n",
       "      <td>caddfb3f8bff9c4b95dbe022018eea21</td>\n",
       "      <td>43.013252</td>\n",
       "    </tr>\n",
       "    <tr>\n",
       "      <th>2</th>\n",
       "      <td>582eeabd4a448a53ebb79995888a4b0b</td>\n",
       "      <td>38.248060</td>\n",
       "    </tr>\n",
       "    <tr>\n",
       "      <th>3</th>\n",
       "      <td>afc1ad7f0c5eea880759d09e77f7deee</td>\n",
       "      <td>29.182768</td>\n",
       "    </tr>\n",
       "    <tr>\n",
       "      <th>4</th>\n",
       "      <td>d5bdf3446e86ce4ec67ce7a00f1cccc2</td>\n",
       "      <td>29.313274</td>\n",
       "    </tr>\n",
       "  </tbody>\n",
       "</table>\n",
       "</div>"
      ],
      "text/plain": [
       "                                 Id  Pawpularity\n",
       "0  ee51b99832f1ba868f646df93d2b6b81    56.451694\n",
       "1  caddfb3f8bff9c4b95dbe022018eea21    43.013252\n",
       "2  582eeabd4a448a53ebb79995888a4b0b    38.248060\n",
       "3  afc1ad7f0c5eea880759d09e77f7deee    29.182768\n",
       "4  d5bdf3446e86ce4ec67ce7a00f1cccc2    29.313274"
      ]
     },
     "execution_count": 23,
     "metadata": {},
     "output_type": "execute_result"
    }
   ],
   "source": [
    "pd.read_csv('submission.csv').head()"
   ]
  },
  {
   "cell_type": "markdown",
   "metadata": {},
   "source": [
    "# Local run score"
   ]
  },
  {
   "cell_type": "code",
   "execution_count": 24,
   "metadata": {},
   "outputs": [
    {
     "data": {
      "text/plain": [
       "18.038510297244233"
      ]
     },
     "execution_count": 24,
     "metadata": {},
     "output_type": "execute_result"
    }
   ],
   "source": [
    "from sklearn.metrics import mean_squared_error \n",
    "mean_squared_error(submission['Pawpularity'], test_df['Pawpularity']) ** 0.5"
   ]
  }
 ],
 "metadata": {
  "kernelspec": {
   "display_name": "pytorch",
   "language": "python",
   "name": "pytorch"
  },
  "language_info": {
   "codemirror_mode": {
    "name": "ipython",
    "version": 3
   },
   "file_extension": ".py",
   "mimetype": "text/x-python",
   "name": "python",
   "nbconvert_exporter": "python",
   "pygments_lexer": "ipython3",
   "version": "3.7.10"
  }
 },
 "nbformat": 4,
 "nbformat_minor": 4
}
